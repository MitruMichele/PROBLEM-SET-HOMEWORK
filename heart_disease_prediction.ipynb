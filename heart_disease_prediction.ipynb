{
 "cells": [
  {
   "cell_type": "markdown",
   "metadata": {},
   "source": [
    "<h1 align=\"center\" style=\"background-color:#0b0504;color:white;border-radius: 8px; padding:12px\">Heart Disease Prediction</h1>"
   ]
  },
  {
   "cell_type": "markdown",
   "metadata": {},
   "source": [
    "<a id='table_of_contents'></a>\n",
    "<h2 style=\"background-color:#0b0504;color:white;border-radius: 8px; padding:12px\">Table of Contents</h2>\n",
    "\n",
    "1. <a href=\"#import\" style=\"text-decoration: None\">Import Libraries and Dataset</a>\n",
    "2. <a href=\"#data_preview\" style=\"text-decoration: None\">Dataset Preview</a>\n",
    "3. <a href=\"#data_wrangling\" style=\"text-decoration: None\">Data Wrangling</a>\n",
    "4. <a href=\"#eda\" style=\"text-decoration: None\">Exploratory Data Analysis</a>\n",
    "    - <a href=\"#univariate\" style=\"text-decoration: None\">Univariate Analysis</a>\n",
    "    - <a href=\"#bivariate\" style=\"text-decoration: None\">Bivariate Analysis</a>\n",
    "5. <a href=\"#data_preprocessing\" style=\"text-decoration: None\">Data Preparation and Preprocessing</a>\n",
    "6. <a href=\"#model_building\" style=\"text-decoration: None\">Model Building</a>"
   ]
  },
  {
   "cell_type": "markdown",
   "metadata": {},
   "source": [
    "<a id=\"import\"></a>\n",
    "<h2 style=\"background-color:#0b0504;color:white;border-radius: 8px; padding:12px\">1. Import Libraries and Load Dataset</h2>\n",
    "\n",
    "<a href=\"#table_of_contents\" style=\"text-decoration: None\">Table of Contents</a>"
   ]
  },
  {
   "cell_type": "code",
   "execution_count": 1,
   "metadata": {
    "execution": {
     "iopub.execute_input": "2023-11-27T20:57:03.488571Z",
     "iopub.status.busy": "2023-11-27T20:57:03.487769Z",
     "iopub.status.idle": "2023-11-27T20:57:03.839205Z",
     "shell.execute_reply": "2023-11-27T20:57:03.838144Z",
     "shell.execute_reply.started": "2023-11-27T20:57:03.488523Z"
    }
   },
   "outputs": [],
   "source": [
    "import numpy as np\n",
    "import pandas as pd\n",
    " \n",
    "pd.set_option(\"display.max_columns\", 120)\n",
    "pd.set_option(\"display.max_rows\", 120)\n",
    "pd.set_option('display.float_format', '{:.2f}'.format)\n",
    "\n",
    "import warnings\n",
    "import time\n",
    "warnings.filterwarnings(\"ignore\")"
   ]
  },
  {
   "cell_type": "code",
   "execution_count": 2,
   "metadata": {
    "execution": {
     "iopub.execute_input": "2023-11-27T20:57:03.841231Z",
     "iopub.status.busy": "2023-11-27T20:57:03.840791Z",
     "iopub.status.idle": "2023-11-27T20:57:03.918510Z",
     "shell.execute_reply": "2023-11-27T20:57:03.917737Z",
     "shell.execute_reply.started": "2023-11-27T20:57:03.841200Z"
    },
    "scrolled": false
   },
   "outputs": [],
   "source": [
    "data = pd.read_csv(\"data.csv\")"
   ]
  },
  {
   "cell_type": "markdown",
   "metadata": {},
   "source": [
    "data source: https://archive.ics.uci.edu/static/public/45/data.csv"
   ]
  },
  {
   "cell_type": "markdown",
   "metadata": {},
   "source": [
    "<a id=\"data_preview\"></a>\n",
    "<h2 style=\"background-color:#0b0504;color:white;border-radius: 8px; padding:12px\">2. Dataset Preview</h2>\n",
    "\n",
    "<a href=\"#table_of_contents\" style=\"text-decoration: None\">Table of Contents</a>"
   ]
  },
  {
   "cell_type": "code",
   "execution_count": 3,
   "metadata": {
    "execution": {
     "iopub.execute_input": "2023-11-27T20:57:03.920382Z",
     "iopub.status.busy": "2023-11-27T20:57:03.919912Z",
     "iopub.status.idle": "2023-11-27T20:57:03.954184Z",
     "shell.execute_reply": "2023-11-27T20:57:03.953272Z",
     "shell.execute_reply.started": "2023-11-27T20:57:03.920343Z"
    }
   },
   "outputs": [
    {
     "data": {
      "text/html": [
       "<div>\n",
       "<style scoped>\n",
       "    .dataframe tbody tr th:only-of-type {\n",
       "        vertical-align: middle;\n",
       "    }\n",
       "\n",
       "    .dataframe tbody tr th {\n",
       "        vertical-align: top;\n",
       "    }\n",
       "\n",
       "    .dataframe thead th {\n",
       "        text-align: right;\n",
       "    }\n",
       "</style>\n",
       "<table border=\"1\" class=\"dataframe\">\n",
       "  <thead>\n",
       "    <tr style=\"text-align: right;\">\n",
       "      <th></th>\n",
       "      <th>age</th>\n",
       "      <th>sex</th>\n",
       "      <th>cp</th>\n",
       "      <th>trestbps</th>\n",
       "      <th>chol</th>\n",
       "      <th>fbs</th>\n",
       "      <th>restecg</th>\n",
       "      <th>thalach</th>\n",
       "      <th>exang</th>\n",
       "      <th>oldpeak</th>\n",
       "      <th>slope</th>\n",
       "      <th>ca</th>\n",
       "      <th>thal</th>\n",
       "      <th>num</th>\n",
       "    </tr>\n",
       "  </thead>\n",
       "  <tbody>\n",
       "    <tr>\n",
       "      <th>0</th>\n",
       "      <td>63</td>\n",
       "      <td>1</td>\n",
       "      <td>1</td>\n",
       "      <td>145</td>\n",
       "      <td>233</td>\n",
       "      <td>1</td>\n",
       "      <td>2</td>\n",
       "      <td>150</td>\n",
       "      <td>0</td>\n",
       "      <td>2.30</td>\n",
       "      <td>3</td>\n",
       "      <td>0.00</td>\n",
       "      <td>6.00</td>\n",
       "      <td>0</td>\n",
       "    </tr>\n",
       "    <tr>\n",
       "      <th>1</th>\n",
       "      <td>67</td>\n",
       "      <td>1</td>\n",
       "      <td>4</td>\n",
       "      <td>160</td>\n",
       "      <td>286</td>\n",
       "      <td>0</td>\n",
       "      <td>2</td>\n",
       "      <td>108</td>\n",
       "      <td>1</td>\n",
       "      <td>1.50</td>\n",
       "      <td>2</td>\n",
       "      <td>3.00</td>\n",
       "      <td>3.00</td>\n",
       "      <td>2</td>\n",
       "    </tr>\n",
       "    <tr>\n",
       "      <th>2</th>\n",
       "      <td>67</td>\n",
       "      <td>1</td>\n",
       "      <td>4</td>\n",
       "      <td>120</td>\n",
       "      <td>229</td>\n",
       "      <td>0</td>\n",
       "      <td>2</td>\n",
       "      <td>129</td>\n",
       "      <td>1</td>\n",
       "      <td>2.60</td>\n",
       "      <td>2</td>\n",
       "      <td>2.00</td>\n",
       "      <td>7.00</td>\n",
       "      <td>1</td>\n",
       "    </tr>\n",
       "    <tr>\n",
       "      <th>3</th>\n",
       "      <td>37</td>\n",
       "      <td>1</td>\n",
       "      <td>3</td>\n",
       "      <td>130</td>\n",
       "      <td>250</td>\n",
       "      <td>0</td>\n",
       "      <td>0</td>\n",
       "      <td>187</td>\n",
       "      <td>0</td>\n",
       "      <td>3.50</td>\n",
       "      <td>3</td>\n",
       "      <td>0.00</td>\n",
       "      <td>3.00</td>\n",
       "      <td>0</td>\n",
       "    </tr>\n",
       "    <tr>\n",
       "      <th>4</th>\n",
       "      <td>41</td>\n",
       "      <td>0</td>\n",
       "      <td>2</td>\n",
       "      <td>130</td>\n",
       "      <td>204</td>\n",
       "      <td>0</td>\n",
       "      <td>2</td>\n",
       "      <td>172</td>\n",
       "      <td>0</td>\n",
       "      <td>1.40</td>\n",
       "      <td>1</td>\n",
       "      <td>0.00</td>\n",
       "      <td>3.00</td>\n",
       "      <td>0</td>\n",
       "    </tr>\n",
       "  </tbody>\n",
       "</table>\n",
       "</div>"
      ],
      "text/plain": [
       "   age  sex  cp  trestbps  chol  fbs  restecg  thalach  exang  oldpeak  slope  \\\n",
       "0   63    1   1       145   233    1        2      150      0     2.30      3   \n",
       "1   67    1   4       160   286    0        2      108      1     1.50      2   \n",
       "2   67    1   4       120   229    0        2      129      1     2.60      2   \n",
       "3   37    1   3       130   250    0        0      187      0     3.50      3   \n",
       "4   41    0   2       130   204    0        2      172      0     1.40      1   \n",
       "\n",
       "    ca  thal  num  \n",
       "0 0.00  6.00    0  \n",
       "1 3.00  3.00    2  \n",
       "2 2.00  7.00    1  \n",
       "3 0.00  3.00    0  \n",
       "4 0.00  3.00    0  "
      ]
     },
     "execution_count": 3,
     "metadata": {},
     "output_type": "execute_result"
    }
   ],
   "source": [
    "data.head()"
   ]
  },
  {
   "cell_type": "code",
   "execution_count": 4,
   "metadata": {
    "execution": {
     "iopub.execute_input": "2023-11-27T20:57:04.023749Z",
     "iopub.status.busy": "2023-11-27T20:57:04.023412Z",
     "iopub.status.idle": "2023-11-27T20:57:04.046623Z",
     "shell.execute_reply": "2023-11-27T20:57:04.045653Z",
     "shell.execute_reply.started": "2023-11-27T20:57:04.023720Z"
    }
   },
   "outputs": [
    {
     "name": "stdout",
     "output_type": "stream",
     "text": [
      "<class 'pandas.core.frame.DataFrame'>\n",
      "RangeIndex: 303 entries, 0 to 302\n",
      "Data columns (total 14 columns):\n",
      " #   Column    Non-Null Count  Dtype  \n",
      "---  ------    --------------  -----  \n",
      " 0   age       303 non-null    int64  \n",
      " 1   sex       303 non-null    int64  \n",
      " 2   cp        303 non-null    int64  \n",
      " 3   trestbps  303 non-null    int64  \n",
      " 4   chol      303 non-null    int64  \n",
      " 5   fbs       303 non-null    int64  \n",
      " 6   restecg   303 non-null    int64  \n",
      " 7   thalach   303 non-null    int64  \n",
      " 8   exang     303 non-null    int64  \n",
      " 9   oldpeak   303 non-null    float64\n",
      " 10  slope     303 non-null    int64  \n",
      " 11  ca        299 non-null    float64\n",
      " 12  thal      301 non-null    float64\n",
      " 13  num       303 non-null    int64  \n",
      "dtypes: float64(3), int64(11)\n",
      "memory usage: 33.3 KB\n"
     ]
    }
   ],
   "source": [
    "data.info()"
   ]
  },
  {
   "cell_type": "code",
   "execution_count": 5,
   "metadata": {
    "execution": {
     "iopub.execute_input": "2023-11-27T20:57:04.232851Z",
     "iopub.status.busy": "2023-11-27T20:57:04.232490Z",
     "iopub.status.idle": "2023-11-27T20:57:04.292083Z",
     "shell.execute_reply": "2023-11-27T20:57:04.291115Z",
     "shell.execute_reply.started": "2023-11-27T20:57:04.232820Z"
    }
   },
   "outputs": [
    {
     "data": {
      "text/html": [
       "<div>\n",
       "<style scoped>\n",
       "    .dataframe tbody tr th:only-of-type {\n",
       "        vertical-align: middle;\n",
       "    }\n",
       "\n",
       "    .dataframe tbody tr th {\n",
       "        vertical-align: top;\n",
       "    }\n",
       "\n",
       "    .dataframe thead th {\n",
       "        text-align: right;\n",
       "    }\n",
       "</style>\n",
       "<table border=\"1\" class=\"dataframe\">\n",
       "  <thead>\n",
       "    <tr style=\"text-align: right;\">\n",
       "      <th></th>\n",
       "      <th>age</th>\n",
       "      <th>sex</th>\n",
       "      <th>cp</th>\n",
       "      <th>trestbps</th>\n",
       "      <th>chol</th>\n",
       "      <th>fbs</th>\n",
       "      <th>restecg</th>\n",
       "      <th>thalach</th>\n",
       "      <th>exang</th>\n",
       "      <th>oldpeak</th>\n",
       "      <th>slope</th>\n",
       "      <th>ca</th>\n",
       "      <th>thal</th>\n",
       "      <th>num</th>\n",
       "    </tr>\n",
       "  </thead>\n",
       "  <tbody>\n",
       "    <tr>\n",
       "      <th>count</th>\n",
       "      <td>303.00</td>\n",
       "      <td>303.00</td>\n",
       "      <td>303.00</td>\n",
       "      <td>303.00</td>\n",
       "      <td>303.00</td>\n",
       "      <td>303.00</td>\n",
       "      <td>303.00</td>\n",
       "      <td>303.00</td>\n",
       "      <td>303.00</td>\n",
       "      <td>303.00</td>\n",
       "      <td>303.00</td>\n",
       "      <td>299.00</td>\n",
       "      <td>301.00</td>\n",
       "      <td>303.00</td>\n",
       "    </tr>\n",
       "    <tr>\n",
       "      <th>mean</th>\n",
       "      <td>54.44</td>\n",
       "      <td>0.68</td>\n",
       "      <td>3.16</td>\n",
       "      <td>131.69</td>\n",
       "      <td>246.69</td>\n",
       "      <td>0.15</td>\n",
       "      <td>0.99</td>\n",
       "      <td>149.61</td>\n",
       "      <td>0.33</td>\n",
       "      <td>1.04</td>\n",
       "      <td>1.60</td>\n",
       "      <td>0.67</td>\n",
       "      <td>4.73</td>\n",
       "      <td>0.94</td>\n",
       "    </tr>\n",
       "    <tr>\n",
       "      <th>std</th>\n",
       "      <td>9.04</td>\n",
       "      <td>0.47</td>\n",
       "      <td>0.96</td>\n",
       "      <td>17.60</td>\n",
       "      <td>51.78</td>\n",
       "      <td>0.36</td>\n",
       "      <td>0.99</td>\n",
       "      <td>22.88</td>\n",
       "      <td>0.47</td>\n",
       "      <td>1.16</td>\n",
       "      <td>0.62</td>\n",
       "      <td>0.94</td>\n",
       "      <td>1.94</td>\n",
       "      <td>1.23</td>\n",
       "    </tr>\n",
       "    <tr>\n",
       "      <th>min</th>\n",
       "      <td>29.00</td>\n",
       "      <td>0.00</td>\n",
       "      <td>1.00</td>\n",
       "      <td>94.00</td>\n",
       "      <td>126.00</td>\n",
       "      <td>0.00</td>\n",
       "      <td>0.00</td>\n",
       "      <td>71.00</td>\n",
       "      <td>0.00</td>\n",
       "      <td>0.00</td>\n",
       "      <td>1.00</td>\n",
       "      <td>0.00</td>\n",
       "      <td>3.00</td>\n",
       "      <td>0.00</td>\n",
       "    </tr>\n",
       "    <tr>\n",
       "      <th>25%</th>\n",
       "      <td>48.00</td>\n",
       "      <td>0.00</td>\n",
       "      <td>3.00</td>\n",
       "      <td>120.00</td>\n",
       "      <td>211.00</td>\n",
       "      <td>0.00</td>\n",
       "      <td>0.00</td>\n",
       "      <td>133.50</td>\n",
       "      <td>0.00</td>\n",
       "      <td>0.00</td>\n",
       "      <td>1.00</td>\n",
       "      <td>0.00</td>\n",
       "      <td>3.00</td>\n",
       "      <td>0.00</td>\n",
       "    </tr>\n",
       "    <tr>\n",
       "      <th>50%</th>\n",
       "      <td>56.00</td>\n",
       "      <td>1.00</td>\n",
       "      <td>3.00</td>\n",
       "      <td>130.00</td>\n",
       "      <td>241.00</td>\n",
       "      <td>0.00</td>\n",
       "      <td>1.00</td>\n",
       "      <td>153.00</td>\n",
       "      <td>0.00</td>\n",
       "      <td>0.80</td>\n",
       "      <td>2.00</td>\n",
       "      <td>0.00</td>\n",
       "      <td>3.00</td>\n",
       "      <td>0.00</td>\n",
       "    </tr>\n",
       "    <tr>\n",
       "      <th>75%</th>\n",
       "      <td>61.00</td>\n",
       "      <td>1.00</td>\n",
       "      <td>4.00</td>\n",
       "      <td>140.00</td>\n",
       "      <td>275.00</td>\n",
       "      <td>0.00</td>\n",
       "      <td>2.00</td>\n",
       "      <td>166.00</td>\n",
       "      <td>1.00</td>\n",
       "      <td>1.60</td>\n",
       "      <td>2.00</td>\n",
       "      <td>1.00</td>\n",
       "      <td>7.00</td>\n",
       "      <td>2.00</td>\n",
       "    </tr>\n",
       "    <tr>\n",
       "      <th>max</th>\n",
       "      <td>77.00</td>\n",
       "      <td>1.00</td>\n",
       "      <td>4.00</td>\n",
       "      <td>200.00</td>\n",
       "      <td>564.00</td>\n",
       "      <td>1.00</td>\n",
       "      <td>2.00</td>\n",
       "      <td>202.00</td>\n",
       "      <td>1.00</td>\n",
       "      <td>6.20</td>\n",
       "      <td>3.00</td>\n",
       "      <td>3.00</td>\n",
       "      <td>7.00</td>\n",
       "      <td>4.00</td>\n",
       "    </tr>\n",
       "  </tbody>\n",
       "</table>\n",
       "</div>"
      ],
      "text/plain": [
       "         age    sex     cp  trestbps   chol    fbs  restecg  thalach  exang  \\\n",
       "count 303.00 303.00 303.00    303.00 303.00 303.00   303.00   303.00 303.00   \n",
       "mean   54.44   0.68   3.16    131.69 246.69   0.15     0.99   149.61   0.33   \n",
       "std     9.04   0.47   0.96     17.60  51.78   0.36     0.99    22.88   0.47   \n",
       "min    29.00   0.00   1.00     94.00 126.00   0.00     0.00    71.00   0.00   \n",
       "25%    48.00   0.00   3.00    120.00 211.00   0.00     0.00   133.50   0.00   \n",
       "50%    56.00   1.00   3.00    130.00 241.00   0.00     1.00   153.00   0.00   \n",
       "75%    61.00   1.00   4.00    140.00 275.00   0.00     2.00   166.00   1.00   \n",
       "max    77.00   1.00   4.00    200.00 564.00   1.00     2.00   202.00   1.00   \n",
       "\n",
       "       oldpeak  slope     ca   thal    num  \n",
       "count   303.00 303.00 299.00 301.00 303.00  \n",
       "mean      1.04   1.60   0.67   4.73   0.94  \n",
       "std       1.16   0.62   0.94   1.94   1.23  \n",
       "min       0.00   1.00   0.00   3.00   0.00  \n",
       "25%       0.00   1.00   0.00   3.00   0.00  \n",
       "50%       0.80   2.00   0.00   3.00   0.00  \n",
       "75%       1.60   2.00   1.00   7.00   2.00  \n",
       "max       6.20   3.00   3.00   7.00   4.00  "
      ]
     },
     "execution_count": 5,
     "metadata": {},
     "output_type": "execute_result"
    }
   ],
   "source": [
    "data.describe()"
   ]
  },
  {
   "cell_type": "markdown",
   "metadata": {},
   "source": [
    "<a id=\"data_wrangling\"></a>\n",
    "<h2 style=\"background-color:#0b0504;color:white;border-radius: 8px; padding:12px\">3. Data Wrangling</h2>\n",
    "\n",
    "<a href=\"#table_of_contents\" style=\"text-decoration: None\">Table of Contents</a>"
   ]
  },
  {
   "cell_type": "markdown",
   "metadata": {},
   "source": [
    "<h4 style=\"background-color:#0b0504;color:white;border-radius: 8px; padding:12px\">3.1. Map Data into Binary Class (Positive and Negative)</h4>\n",
    "\n",
    "<a href=\"#table_of_contents\" style=\"text-decoration: None\">Table of Contents</a>"
   ]
  },
  {
   "cell_type": "code",
   "execution_count": 6,
   "metadata": {},
   "outputs": [
    {
     "data": {
      "text/plain": [
       "0    164\n",
       "1    139\n",
       "Name: num, dtype: int64"
      ]
     },
     "execution_count": 6,
     "metadata": {},
     "output_type": "execute_result"
    }
   ],
   "source": [
    "mapping = {0:0, 1:1, 2:1, 3:1, 4:1}\n",
    "\n",
    "data['num'] = data['num'].map(mapping)\n",
    "data['num'].value_counts()"
   ]
  },
  {
   "cell_type": "markdown",
   "metadata": {},
   "source": [
    "<h4 style=\"background-color:#0b0504;color:white;border-radius: 8px; padding:12px\">3.2. Drop NaN Rows</h4>\n",
    "\n",
    "<a href=\"#table_of_contents\" style=\"text-decoration: None\">Table of Contents</a>"
   ]
  },
  {
   "cell_type": "code",
   "execution_count": 7,
   "metadata": {},
   "outputs": [],
   "source": [
    "data = data.dropna()"
   ]
  },
  {
   "cell_type": "markdown",
   "metadata": {},
   "source": [
    "<a id=\"eda\"></a>\n",
    "<h2 style=\"background-color:#0b0504;color:white;border-radius: 8px; padding:12px\">4. Exploratory Data Analysis</h2>\n",
    "\n",
    "<a href=\"#table_of_contents\" style=\"text-decoration: None\">Table of Contents</a>"
   ]
  },
  {
   "cell_type": "code",
   "execution_count": 8,
   "metadata": {
    "execution": {
     "iopub.execute_input": "2023-11-27T20:57:08.154362Z",
     "iopub.status.busy": "2023-11-27T20:57:08.154115Z",
     "iopub.status.idle": "2023-11-27T20:57:08.529901Z",
     "shell.execute_reply": "2023-11-27T20:57:08.529022Z",
     "shell.execute_reply.started": "2023-11-27T20:57:08.154339Z"
    }
   },
   "outputs": [],
   "source": [
    "import matplotlib.pyplot as plt\n",
    "import seaborn as sns\n",
    "import plotly.express as px\n",
    "import plotly.graph_objects as go\n",
    "import plotly.subplots as sp\n",
    "sns.set_style(\"darkgrid\")"
   ]
  },
  {
   "cell_type": "code",
   "execution_count": 9,
   "metadata": {
    "execution": {
     "iopub.execute_input": "2023-11-27T20:57:08.531606Z",
     "iopub.status.busy": "2023-11-27T20:57:08.531114Z",
     "iopub.status.idle": "2023-11-27T20:57:20.017980Z",
     "shell.execute_reply": "2023-11-27T20:57:20.016927Z",
     "shell.execute_reply.started": "2023-11-27T20:57:08.531577Z"
    }
   },
   "outputs": [
    {
     "name": "stdout",
     "output_type": "stream",
     "text": [
      "Requirement already satisfied: kaleido in c:\\users\\goodness\\appdata\\local\\programs\\python\\python39\\lib\\site-packages (0.2.1)\n"
     ]
    }
   ],
   "source": [
    "!pip install kaleido"
   ]
  },
  {
   "cell_type": "code",
   "execution_count": 10,
   "metadata": {
    "execution": {
     "iopub.execute_input": "2023-11-27T20:57:20.019751Z",
     "iopub.status.busy": "2023-11-27T20:57:20.019436Z",
     "iopub.status.idle": "2023-11-27T20:57:20.024898Z",
     "shell.execute_reply": "2023-11-27T20:57:20.024033Z",
     "shell.execute_reply.started": "2023-11-27T20:57:20.019723Z"
    }
   },
   "outputs": [],
   "source": [
    "plot_color = ['#008080', 'black']\n",
    "sns.set_palette(['#008080', 'black'])"
   ]
  },
  {
   "cell_type": "markdown",
   "metadata": {},
   "source": [
    "<a id=\"univariate\"></a>\n",
    "<h4 style=\"background-color:#0b0504;color:white;border-radius: 8px; padding:12px\">4.1. Univariate Analysis</h4>\n",
    "\n",
    "<a href=\"#table_of_contents\" style=\"text-decoration: None\">Table of Contents</a>"
   ]
  },
  {
   "cell_type": "markdown",
   "metadata": {},
   "source": [
    "`Heart Disease Class`"
   ]
  },
  {
   "cell_type": "code",
   "execution_count": 11,
   "metadata": {},
   "outputs": [
    {
     "data": {
      "text/plain": [
       "0    160\n",
       "1    137\n",
       "Name: num, dtype: int64"
      ]
     },
     "execution_count": 11,
     "metadata": {},
     "output_type": "execute_result"
    }
   ],
   "source": [
    "class_count = data['num'].value_counts()\n",
    "class_count"
   ]
  },
  {
   "cell_type": "code",
   "execution_count": 12,
   "metadata": {},
   "outputs": [
    {
     "data": {
      "image/png": "[encoded data removed]"
     },
     "metadata": {},
     "output_type": "display_data"
    }
   ],
   "source": [
    "fig = px.pie(\n",
    "    class_count, values=class_count.values,  names=['Negative', 'Postive'],\n",
    "    title='Proportion of Heart Disease Cases',\n",
    "    color_discrete_sequence=plot_color,\n",
    ")\n",
    "\n",
    "fig.update_layout(legend_title_text='Heart Disease Class', title_x=0.3, title_y=0.95,)\n",
    "fig.show('png', width=1000, height=550)"
   ]
  },
  {
   "cell_type": "markdown",
   "metadata": {},
   "source": [
    "<a id=\"bivariate\"></a>\n",
    "<h4 style=\"background-color:#0b0504;color:white;border-radius: 8px; padding:12px\">4.2. Bivariate Analysis</h4>\n",
    "\n",
    "<a href=\"#table_of_contents\" style=\"text-decoration: None\">Table of Contents</a>"
   ]
  },
  {
   "cell_type": "markdown",
   "metadata": {},
   "source": [
    "`Age and Health Disease Status`"
   ]
  },
  {
   "cell_type": "code",
   "execution_count": 13,
   "metadata": {},
   "outputs": [],
   "source": [
    "# Filter data for health disease and no-health disease cases\n",
    "no_disease_data = data[data['num'] == 0]\n",
    "disease_data = data[data['num'] == 1]"
   ]
  },
  {
   "cell_type": "code",
   "execution_count": 14,
   "metadata": {},
   "outputs": [
    {
     "data": {
      "image/png": "[encoded data removed]"
     },
     "metadata": {},
     "output_type": "display_data"
    }
   ],
   "source": [
    "# Create subplots\n",
    "fig = sp.make_subplots(rows=1, cols=2, subplot_titles=['No Heart Disease', 'Heart Disease'])\n",
    "\n",
    "# Add histograms to subplots\n",
    "histogram_no_disease = px.histogram(no_disease_data, \n",
    "                               x='age', \n",
    "                               color_discrete_sequence=['#008080'])\n",
    "histogram_disease = px.histogram(disease_data, \n",
    "                            x='age',\n",
    "                            color_discrete_sequence=['black'])\n",
    "\n",
    "fig.add_trace(histogram_no_disease['data'][0], row=1, col=1)\n",
    "fig.add_trace(histogram_disease['data'][0], row=1, col=2)\n",
    "\n",
    "# Update layout\n",
    "fig.update_layout(title=\"Age Distribution by Heart Disease\", title_x=0.5)\n",
    "fig.update_xaxes(title_text=\"Age\")\n",
    "fig.update_yaxes(title_text='Count')\n",
    "\n",
    "fig.show('png', width=1000, height=550)"
   ]
  },
  {
   "cell_type": "markdown",
   "metadata": {},
   "source": [
    "Majority of positive heart disease cases occur majorly in adults around the ages of 55 to 65. "
   ]
  },
  {
   "cell_type": "markdown",
   "metadata": {},
   "source": [
    "<a id=\"data_preprocessing\"></a>\n",
    "<h2 style=\"background-color:#0b0504;color:white;border-radius: 8px; padding:12px\">5. Data Preparation and Preprocessing</h2>\n",
    "\n",
    "<a href=\"#table_of_contents\" style=\"text-decoration: None\">Table of Contents</a>"
   ]
  },
  {
   "cell_type": "code",
   "execution_count": 15,
   "metadata": {},
   "outputs": [],
   "source": [
    "X_train = data.drop(columns=['num'])\n",
    "y_train = data['num']"
   ]
  },
  {
   "cell_type": "markdown",
   "metadata": {},
   "source": [
    "<h4 style=\"background-color:#0b0504;color:white;border-radius: 8px; padding:12px\">5.1. Scale Numeric Columns</h4>\n",
    "\n",
    "<a href=\"#table_of_contents\" style=\"text-decoration: None\">Table of Contents</a>"
   ]
  },
  {
   "cell_type": "code",
   "execution_count": 16,
   "metadata": {
    "execution": {
     "iopub.execute_input": "2023-11-27T20:57:22.255506Z",
     "iopub.status.busy": "2023-11-27T20:57:22.255066Z",
     "iopub.status.idle": "2023-11-27T20:57:22.356173Z",
     "shell.execute_reply": "2023-11-27T20:57:22.355349Z",
     "shell.execute_reply.started": "2023-11-27T20:57:22.255463Z"
    }
   },
   "outputs": [],
   "source": [
    "from sklearn.preprocessing import MinMaxScaler\n",
    "from sklearn import set_config"
   ]
  },
  {
   "cell_type": "code",
   "execution_count": 17,
   "metadata": {},
   "outputs": [],
   "source": [
    "scaler = MinMaxScaler()"
   ]
  },
  {
   "cell_type": "code",
   "execution_count": 18,
   "metadata": {},
   "outputs": [],
   "source": [
    "num_cols = X_train.select_dtypes(include=np.number).columns.to_list()"
   ]
  },
  {
   "cell_type": "code",
   "execution_count": 19,
   "metadata": {},
   "outputs": [],
   "source": [
    "X_train[num_cols] = scaler.fit_transform(X_train[num_cols])"
   ]
  },
  {
   "cell_type": "markdown",
   "metadata": {},
   "source": [
    "<h4 style=\"background-color:#0b0504;color:white;border-radius: 8px; padding:12px\">5.1. Split Data into Training and Test Set</h4>\n",
    "\n",
    "<a href=\"#table_of_contents\" style=\"text-decoration: None\">Table of Contents</a>"
   ]
  },
  {
   "cell_type": "code",
   "execution_count": 20,
   "metadata": {},
   "outputs": [],
   "source": [
    "from sklearn.model_selection import train_test_split"
   ]
  },
  {
   "cell_type": "code",
   "execution_count": 21,
   "metadata": {},
   "outputs": [
    {
     "name": "stdout",
     "output_type": "stream",
     "text": [
      "Shape of training set: (237, 13)\n",
      "Shape of validation set: (60, 13)\n"
     ]
    }
   ],
   "source": [
    "X_train, X_test, y_train, y_test = train_test_split(X_train, y_train, test_size=0.2, random_state=42)\n",
    "\n",
    "print(f'Shape of training set: {X_train.shape}')\n",
    "print(f'Shape of validation set: {X_test.shape}')"
   ]
  },
  {
   "cell_type": "markdown",
   "metadata": {},
   "source": [
    "<a id=\"model_building\"></a>\n",
    "<h2 style=\"background-color:#0b0504;color:white;border-radius: 8px; padding:12px\">6. Model Building</h2>\n",
    "\n",
    "<a href=\"#table_of_contents\" style=\"text-decoration: None\">Table of Contents</a>"
   ]
  },
  {
   "cell_type": "markdown",
   "metadata": {},
   "source": [
    "<a id=\"model_building\"></a>\n",
    "<h4 style=\"background-color:#0b0504;color:white;border-radius: 8px; padding:12px\">6.1. Define Model Evaluation Metrics</h4>\n",
    "\n",
    "<a href=\"#table_of_contents\" style=\"text-decoration: None\">Table of Contents</a>"
   ]
  },
  {
   "cell_type": "code",
   "execution_count": 22,
   "metadata": {},
   "outputs": [],
   "source": [
    "confusion_matrices = {}"
   ]
  },
  {
   "cell_type": "code",
   "execution_count": 23,
   "metadata": {},
   "outputs": [],
   "source": [
    "def evaluate_model(model, X_train, y_train, X_test, y_test):\n",
    "    y_pred = model.predict(X_test)\n",
    "    confusion_mat = confusion_matrix(y_test, y_pred)\n",
    "    accuracy = accuracy_score(y_test, y_pred)\n",
    "    precision = precision_score(y_test, y_pred)\n",
    "    recall = recall_score(y_test, y_pred)\n",
    "    f1 = f1_score(y_test, y_pred)\n",
    "\n",
    "    return confusion_mat, accuracy, precision, recall, f1"
   ]
  },
  {
   "cell_type": "code",
   "execution_count": 24,
   "metadata": {},
   "outputs": [],
   "source": [
    "def metric_df(model, model_name):\n",
    "    confusion_mat, *df = evaluate_model(model, X_train, y_train, X_test, y_test)\n",
    "    confusion_matrices[model_name] = confusion_mat\n",
    "    df = [df]\n",
    "    model_metrics = pd.DataFrame(data=df, columns=['Accuracy', 'Precision', 'Recall', 'F1 Score'])\n",
    "    model_metrics.insert(0, 'Model', model_name)\n",
    "    return model_metrics"
   ]
  },
  {
   "cell_type": "markdown",
   "metadata": {},
   "source": [
    "<a id=\"model_building\"></a>\n",
    "<h4 style=\"background-color:#0b0504;color:white;border-radius: 8px; padding:12px\">6.2. Train and Evaluate Classification Models</h4>\n",
    "\n",
    "<a href=\"#table_of_contents\" style=\"text-decoration: None\">Table of Contents</a>"
   ]
  },
  {
   "cell_type": "code",
   "execution_count": 25,
   "metadata": {
    "execution": {
     "iopub.execute_input": "2023-11-27T20:57:25.040092Z",
     "iopub.status.busy": "2023-11-27T20:57:25.039758Z",
     "iopub.status.idle": "2023-11-27T20:57:26.550634Z",
     "shell.execute_reply": "2023-11-27T20:57:26.549617Z",
     "shell.execute_reply.started": "2023-11-27T20:57:25.040064Z"
    }
   },
   "outputs": [],
   "source": [
    "from sklearn import metrics\n",
    "from sklearn.linear_model import LogisticRegression\n",
    "from sklearn.ensemble import RandomForestClassifier\n",
    "\n",
    "from sklearn.metrics import confusion_matrix, accuracy_score, precision_score, recall_score, f1_score"
   ]
  },
  {
   "cell_type": "code",
   "execution_count": 26,
   "metadata": {},
   "outputs": [],
   "source": [
    "models = [\n",
    "    (LogisticRegression(), 'Logistic Regression'),\n",
    "    (RandomForestClassifier(), 'Random Forest'),\n",
    "]"
   ]
  },
  {
   "cell_type": "code",
   "execution_count": 27,
   "metadata": {},
   "outputs": [],
   "source": [
    "predictions = []\n",
    "\n",
    "for model, model_name in models:\n",
    "    model.fit(X_train, y_train)\n",
    "    model_metrics = metric_df(model, model_name)\n",
    "    predictions.append(model_metrics)"
   ]
  },
  {
   "cell_type": "code",
   "execution_count": 28,
   "metadata": {},
   "outputs": [
    {
     "data": {
      "text/html": [
       "<style type=\"text/css\">\n",
       "</style>\n",
       "<table id=\"T_d4e08_\">\n",
       "  <thead>\n",
       "    <tr>\n",
       "      <th class=\"blank level0\" >&nbsp;</th>\n",
       "      <th class=\"col_heading level0 col0\" >Model</th>\n",
       "      <th class=\"col_heading level0 col1\" >Accuracy</th>\n",
       "      <th class=\"col_heading level0 col2\" >Precision</th>\n",
       "      <th class=\"col_heading level0 col3\" >Recall</th>\n",
       "      <th class=\"col_heading level0 col4\" >F1 Score</th>\n",
       "    </tr>\n",
       "  </thead>\n",
       "  <tbody>\n",
       "    <tr>\n",
       "      <th id=\"T_d4e08_level0_row0\" class=\"row_heading level0 row0\" >0</th>\n",
       "      <td id=\"T_d4e08_row0_col0\" class=\"data row0 col0\" >Logistic Regression</td>\n",
       "      <td id=\"T_d4e08_row0_col1\" class=\"data row0 col1\" >0.900000</td>\n",
       "      <td id=\"T_d4e08_row0_col2\" class=\"data row0 col2\" >0.846154</td>\n",
       "      <td id=\"T_d4e08_row0_col3\" class=\"data row0 col3\" >0.916667</td>\n",
       "      <td id=\"T_d4e08_row0_col4\" class=\"data row0 col4\" >0.880000</td>\n",
       "    </tr>\n",
       "    <tr>\n",
       "      <th id=\"T_d4e08_level0_row1\" class=\"row_heading level0 row1\" >1</th>\n",
       "      <td id=\"T_d4e08_row1_col0\" class=\"data row1 col0\" >Random Forest</td>\n",
       "      <td id=\"T_d4e08_row1_col1\" class=\"data row1 col1\" >0.883333</td>\n",
       "      <td id=\"T_d4e08_row1_col2\" class=\"data row1 col2\" >0.840000</td>\n",
       "      <td id=\"T_d4e08_row1_col3\" class=\"data row1 col3\" >0.875000</td>\n",
       "      <td id=\"T_d4e08_row1_col4\" class=\"data row1 col4\" >0.857143</td>\n",
       "    </tr>\n",
       "  </tbody>\n",
       "</table>\n"
      ],
      "text/plain": [
       "<pandas.io.formats.style.Styler at 0x1e871ec2940>"
      ]
     },
     "execution_count": 28,
     "metadata": {},
     "output_type": "execute_result"
    }
   ],
   "source": [
    "predictions_base = pd.concat(predictions, ignore_index=True, sort=False)\n",
    "predictions_base = predictions_base.sort_values(by=['Recall'], ascending=False).style\n",
    "\n",
    "predictions_base"
   ]
  },
  {
   "cell_type": "markdown",
   "metadata": {},
   "source": [
    "<a id=\"confusion_models\"></a>\n",
    "<h4 style=\"background-color:#0b0504;color:white;border-radius: 8px; padding:12px\">6.3. Plot Confusion Matrics Models</h4>\n",
    "\n",
    "<a href=\"#table_of_contents\" style=\"text-decoration: None\">Table of Contents</a>"
   ]
  },
  {
   "cell_type": "code",
   "execution_count": 29,
   "metadata": {},
   "outputs": [],
   "source": [
    "models_to_plot = [\n",
    "    'Logistic Regression',\n",
    "    'Random Forest'\n",
    "]"
   ]
  },
  {
   "cell_type": "code",
   "execution_count": 30,
   "metadata": {
    "scrolled": false
   },
   "outputs": [
    {
     "data": {
      "image/png": "[encoded data removed]",
      "text/plain": [
       "<Figure size 900x700 with 4 Axes>"
      ]
     },
     "metadata": {},
     "output_type": "display_data"
    }
   ],
   "source": [
    "fig, axes = plt.subplots(nrows=2, ncols=1, figsize=(9, 7))\n",
    "\n",
    "# Loop through models and plot confusion matrices\n",
    "for ax, model_name in zip(axes.ravel(), models_to_plot):\n",
    "    confusion_mat = confusion_matrices[model_name]\n",
    "    sns.heatmap(confusion_mat, annot=True, fmt='d', cmap='Blues', ax=ax)\n",
    "    ax.set_title(f'{model_name}')\n",
    "    ax.set_xlabel('Predicted')\n",
    "    ax.set_ylabel('Actual')\n",
    "\n",
    "# Adjust layout\n",
    "plt.tight_layout()\n",
    "plt.subplots_adjust(left=0, right=0.9, top=0.9, bottom=0)\n",
    "plt.show()"
   ]
  },
  {
   "cell_type": "code",
   "execution_count": null,
   "metadata": {},
   "outputs": [],
   "source": []
  }
 ],
 "metadata": {
  "kaggle": {
   "accelerator": "gpu",
   "dataSources": [
    {
     "datasetId": 4042152,
     "sourceId": 7028025,
     "sourceType": "datasetVersion"
    }
   ],
   "dockerImageVersionId": 30587,
   "isGpuEnabled": true,
   "isInternetEnabled": true,
   "language": "python",
   "sourceType": "notebook"
  },
  "kernelspec": {
   "display_name": "Python 3 (ipykernel)",
   "language": "python",
   "name": "python3"
  },
  "language_info": {
   "codemirror_mode": {
    "name": "ipython",
    "version": 3
   },
   "file_extension": ".py",
   "mimetype": "text/x-python",
   "name": "python",
   "nbconvert_exporter": "python",
   "pygments_lexer": "ipython3",
   "version": "3.9.4"
  },
  "varInspector": {
   "cols": {
    "lenName": 16,
    "lenType": 16,
    "lenVar": 40
   },
   "kernels_config": {
    "python": {
     "delete_cmd_postfix": "",
     "delete_cmd_prefix": "del ",
     "library": "var_list.py",
     "varRefreshCmd": "print(var_dic_list())"
    },
    "r": {
     "delete_cmd_postfix": ") ",
     "delete_cmd_prefix": "rm(",
     "library": "var_list.r",
     "varRefreshCmd": "cat(var_dic_list()) "
    }
   },
   "types_to_exclude": [
    "module",
    "function",
    "builtin_function_or_method",
    "instance",
    "_Feature"
   ],
   "window_display": false
  }
 },
 "nbformat": 4,
 "nbformat_minor": 4
}
